{
 "cells": [
  {
   "cell_type": "code",
   "execution_count": 23,
   "id": "e204afef-12a3-4587-afe1-88f108c286f9",
   "metadata": {},
   "outputs": [],
   "source": [
    "import openai"
   ]
  },
  {
   "cell_type": "code",
   "execution_count": 24,
   "id": "f22b2780-d596-421e-850b-089c374059a2",
   "metadata": {},
   "outputs": [],
   "source": [
    "from openai import OpenAI"
   ]
  },
  {
   "cell_type": "code",
   "execution_count": 25,
   "id": "e01744b7-52ef-4f3d-ad82-240dd59afc7b",
   "metadata": {},
   "outputs": [],
   "source": [
    "import os"
   ]
  },
  {
   "cell_type": "code",
   "execution_count": 27,
   "id": "165f1fd4-8b7a-4d85-8ff5-9d1e20b6661a",
   "metadata": {},
   "outputs": [],
   "source": [
    "openai_api = os.environ['OPEN_AI_KEY']"
   ]
  },
  {
   "cell_type": "code",
   "execution_count": 29,
   "id": "8f11f996-4778-4ab4-a078-9c61f8e370ef",
   "metadata": {},
   "outputs": [],
   "source": [
    "client = OpenAI(api_key = openai_api)"
   ]
  },
  {
   "cell_type": "code",
   "execution_count": 30,
   "id": "75fa55fc-d664-4a1a-87ea-05fd6fe421c3",
   "metadata": {},
   "outputs": [],
   "source": [
    "response = client.chat.completions.create(\n",
    "    model = 'gpt-4o',\n",
    "    messages = [{\"role\": \"user\", \"content\": \"is it too late to join the course?\"}]\n",
    ")"
   ]
  },
  {
   "cell_type": "code",
   "execution_count": 31,
   "id": "49528cea-5b9d-4d5b-acfb-67ba3d5ba13d",
   "metadata": {},
   "outputs": [
    {
     "data": {
      "text/plain": [
       "ChatCompletion(id='chatcmpl-CR5U0PmpYj0B4BrIsx3mSSg7CcxXP', choices=[Choice(finish_reason='stop', index=0, logprobs=None, message=ChatCompletionMessage(content=\"I would need more context to give a specific answer. If you're referring to a particular course, it depends on several factors, such as the course schedule, enrollment deadlines, and whether the course allows late entries. Here are a few steps you could take:\\n\\n1. **Check the Course Website:** Look for enrollment deadlines and policies.\\n2. **Contact the Instructor or Institution:** They might make exceptions or offer advice for late joiners.\\n3. **Review the Syllabus:** See if you can catch up with any missed material if late entry is possible.\\n4. **Consider Future Sessions:** If you can't join now, see when the course might be offered again.\\n\\nIf you can provide more details about the specific course, I might be able to offer more targeted advice.\", refusal=None, role='assistant', annotations=[], audio=None, function_call=None, tool_calls=None))], created=1760571968, model='gpt-4o-2024-08-06', object='chat.completion', service_tier='default', system_fingerprint='fp_eb3c3cb84d', usage=CompletionUsage(completion_tokens=154, prompt_tokens=16, total_tokens=170, completion_tokens_details=CompletionTokensDetails(accepted_prediction_tokens=0, audio_tokens=0, reasoning_tokens=0, rejected_prediction_tokens=0), prompt_tokens_details=PromptTokensDetails(audio_tokens=0, cached_tokens=0)))"
      ]
     },
     "execution_count": 31,
     "metadata": {},
     "output_type": "execute_result"
    }
   ],
   "source": [
    "response"
   ]
  },
  {
   "cell_type": "code",
   "execution_count": 13,
   "id": "fa722d96-ff01-49cd-8012-ccfcad73414d",
   "metadata": {},
   "outputs": [
    {
     "data": {
      "text/plain": [
       "\"I'm sorry, but I don't have specific information on the course you're referring to. Course enrollment deadlines vary widely depending on the institution, platform, or program offering the course. To find out if it's too late to join, you should check the course details on the provider's website or contact their support or admissions team directly. They can provide you with the most accurate and up-to-date information regarding enrollment deadlines and any possible options for late registration.\""
      ]
     },
     "execution_count": 13,
     "metadata": {},
     "output_type": "execute_result"
    }
   ],
   "source": [
    "response.choices[0].message.content"
   ]
  },
  {
   "cell_type": "code",
   "execution_count": null,
   "id": "e1e2391b-ecbd-417f-a5b8-deac98d534c5",
   "metadata": {},
   "outputs": [],
   "source": []
  }
 ],
 "metadata": {
  "kernelspec": {
   "display_name": "Python 3 (ipykernel)",
   "language": "python",
   "name": "python3"
  },
  "language_info": {
   "codemirror_mode": {
    "name": "ipython",
    "version": 3
   },
   "file_extension": ".py",
   "mimetype": "text/x-python",
   "name": "python",
   "nbconvert_exporter": "python",
   "pygments_lexer": "ipython3",
   "version": "3.12.1"
  }
 },
 "nbformat": 4,
 "nbformat_minor": 5
}
